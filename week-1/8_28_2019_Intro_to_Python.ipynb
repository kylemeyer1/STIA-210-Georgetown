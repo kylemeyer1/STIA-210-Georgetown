{
  "nbformat": 4,
  "nbformat_minor": 0,
  "metadata": {
    "colab": {
      "name": "8_28_2019_Intro_to_Python",
      "version": "0.3.2",
      "provenance": []
    },
    "kernelspec": {
      "name": "python3",
      "display_name": "Python 3"
    }
  },
  "cells": [
    {
      "cell_type": "code",
      "metadata": {
        "id": "j_Bpo0FcgPSE",
        "colab_type": "code",
        "colab": {}
      },
      "source": [
        "# Lines of comments start with a hashtag\n",
        "# Execution of this block will not do anything,\n",
        "# nor will it raise an error\n",
        "x = 0 # That's all!"
      ],
      "execution_count": 0,
      "outputs": []
    },
    {
      "cell_type": "code",
      "metadata": {
        "id": "Z2vZGzXKSmFM",
        "colab_type": "code",
        "outputId": "36cbe899-48a4-4b5d-fb64-fd004a396873",
        "colab": {
          "base_uri": "https://localhost:8080/",
          "height": 34
        }
      },
      "source": [
        "!hostname -I"
      ],
      "execution_count": 0,
      "outputs": [
        {
          "output_type": "stream",
          "text": [
            "172.28.0.2 \n"
          ],
          "name": "stdout"
        }
      ]
    },
    {
      "cell_type": "code",
      "metadata": {
        "id": "XerarqMqS8Ou",
        "colab_type": "code",
        "colab": {}
      },
      "source": [
        ""
      ],
      "execution_count": 0,
      "outputs": []
    },
    {
      "cell_type": "code",
      "metadata": {
        "id": "_-PIiH1jjuIo",
        "colab_type": "code",
        "cellView": "both",
        "colab": {}
      },
      "source": [
        "# Maybe not the most readable\n",
        "x=2\n",
        "y=3\n",
        "# Perhaps more readable\n",
        "x = 2\n",
        "y = 3\n",
        "# Perhaps even slicker - fewer lines of code\n",
        "x,y = 2,3\n",
        "\n",
        "# Perhaps going too far\n",
        "x , y = 2 , 3"
      ],
      "execution_count": 0,
      "outputs": []
    },
    {
      "cell_type": "code",
      "metadata": {
        "id": "x3_mjlF3koJP",
        "colab_type": "code",
        "outputId": "1c1d99eb-9483-470f-94cc-99c40c6074b0",
        "colab": {
          "base_uri": "https://localhost:8080/",
          "height": 295
        }
      },
      "source": [
        "print('x + y = ')\n",
        "print(x + y)\n",
        "print('y - x = ')\n",
        "print(y - x)\n",
        "print('x times y = ')\n",
        "print(x*y)\n",
        "print('y divided by x = ')\n",
        "print(y / x)\n",
        "print('y modulo x = ') # Modulo is the operator for the remainder from division\n",
        "print(y % x) # 3 divided by 2 is 1 with 1 remainder\n",
        "print('x modulo y = ') \n",
        "print(x % y) # 2 divided by 3 is 0 with 2 remainder\n",
        "print('x // y = ') # whole integer division instead of exact float division\n",
        "print(x//y)\n",
        "print('x / y = ')\n",
        "print(x/y) # so // is not rounding the answer"
      ],
      "execution_count": 0,
      "outputs": [
        {
          "output_type": "stream",
          "text": [
            "x + y = \n",
            "5\n",
            "y - x = \n",
            "1\n",
            "x times y = \n",
            "6\n",
            "y divided by x = \n",
            "1.5\n",
            "y modulo x = \n",
            "1\n",
            "x modulo y = \n",
            "2\n",
            "x // y = \n",
            "0\n",
            "x / y = \n",
            "0.6666666666666666\n"
          ],
          "name": "stdout"
        }
      ]
    },
    {
      "cell_type": "code",
      "metadata": {
        "id": "nWqnonUXlU2r",
        "colab_type": "code",
        "outputId": "4bbc6683-b70a-47d0-9b4e-63cf967b63af",
        "colab": {
          "base_uri": "https://localhost:8080/",
          "height": 52
        }
      },
      "source": [
        "print (x + y) # Technically not an error\n",
        "print(x + y)  # Looks cleaner"
      ],
      "execution_count": 0,
      "outputs": [
        {
          "output_type": "stream",
          "text": [
            "5\n",
            "5\n"
          ],
          "name": "stdout"
        }
      ]
    },
    {
      "cell_type": "code",
      "metadata": {
        "id": "lTTTv3r7-XbV",
        "colab_type": "code",
        "colab": {}
      },
      "source": [
        "# Demo of control structures\n",
        "# key words:\n",
        "# def --> short for define, starts a block of code related to the definition of function\n",
        "# for --> starts a for loop\n",
        "# if --> evaluates a condition whether or not to enter a code block\n",
        "# while --> similar to a for loop, continues a loop until a condition is false"
      ],
      "execution_count": 0,
      "outputs": []
    },
    {
      "cell_type": "code",
      "metadata": {
        "id": "w8nQ_E91_J14",
        "colab_type": "code",
        "outputId": "3398f74b-8966-4db0-e817-86b13dfd79a8",
        "colab": {
          "base_uri": "https://localhost:8080/",
          "height": 572
        }
      },
      "source": [
        "def foo():\n",
        "  print('foo')\n",
        "\n",
        "def silly_printer(word):\n",
        "  if type(word) == int:\n",
        "    word = str(word) # similar to this '1'\n",
        "  if word == 'clown':\n",
        "    print('WE DONT LIKE CLOWNS')\n",
        "  elif word == 'foo':\n",
        "    print('foobarbaz')\n",
        "  else:\n",
        "    for letter in word:\n",
        "      print('|')\n",
        "      print(letter)\n",
        "  \n",
        "condition = True\n",
        "while(condition):\n",
        "  silly_printer(1)\n",
        "  silly_printer('clown')\n",
        "  silly_printer('foo')\n",
        "  silly_printer('something else')\n",
        "  condition = False"
      ],
      "execution_count": 0,
      "outputs": [
        {
          "output_type": "stream",
          "text": [
            "|\n",
            "1\n",
            "WE DONT LIKE CLOWNS\n",
            "foobarbaz\n",
            "|\n",
            "s\n",
            "|\n",
            "o\n",
            "|\n",
            "m\n",
            "|\n",
            "e\n",
            "|\n",
            "t\n",
            "|\n",
            "h\n",
            "|\n",
            "i\n",
            "|\n",
            "n\n",
            "|\n",
            "g\n",
            "|\n",
            " \n",
            "|\n",
            "e\n",
            "|\n",
            "l\n",
            "|\n",
            "s\n",
            "|\n",
            "e\n"
          ],
          "name": "stdout"
        }
      ]
    },
    {
      "cell_type": "code",
      "metadata": {
        "id": "jR1WOXaZxRaL",
        "colab_type": "code",
        "outputId": "bc3b0d0c-adb4-4de2-8c3b-65b20ee30017",
        "colab": {
          "base_uri": "https://localhost:8080/",
          "height": 245
        }
      },
      "source": [
        "help(print)"
      ],
      "execution_count": 0,
      "outputs": [
        {
          "output_type": "stream",
          "text": [
            "Help on built-in function print in module builtins:\n",
            "\n",
            "print(...)\n",
            "    print(value, ..., sep=' ', end='\\n', file=sys.stdout, flush=False)\n",
            "    \n",
            "    Prints the values to a stream, or to sys.stdout by default.\n",
            "    Optional keyword arguments:\n",
            "    file:  a file-like object (stream); defaults to the current sys.stdout.\n",
            "    sep:   string inserted between values, default a space.\n",
            "    end:   string appended after the last value, default a newline.\n",
            "    flush: whether to forcibly flush the stream.\n",
            "\n"
          ],
          "name": "stdout"
        }
      ]
    },
    {
      "cell_type": "code",
      "metadata": {
        "id": "TqvQ8Z8cnprZ",
        "colab_type": "code",
        "outputId": "5004059c-25e8-4878-a7be-10faf59e1c59",
        "colab": {
          "base_uri": "https://localhost:8080/",
          "height": 124
        }
      },
      "source": [
        "print(2)            # print can take integers as arguments\n",
        "print(1.0)          # or floating point numbers\n",
        "print('foo')        # or strings\n",
        "print(80*'-')\n",
        "print(str(2) + 'foo')"
      ],
      "execution_count": 0,
      "outputs": [
        {
          "output_type": "stream",
          "text": [
            "2\n",
            "1.0\n",
            "foo\n",
            "--------------------------------------------------------------------------------\n",
            "2foo\n"
          ],
          "name": "stdout"
        }
      ]
    },
    {
      "cell_type": "code",
      "metadata": {
        "id": "KdvVbd-rwcfw",
        "colab_type": "code",
        "outputId": "c820a48f-bf5d-4d4f-ada1-325a96d432bf",
        "colab": {
          "base_uri": "https://localhost:8080/",
          "height": 245
        }
      },
      "source": [
        "help(print)"
      ],
      "execution_count": 0,
      "outputs": [
        {
          "output_type": "stream",
          "text": [
            "Help on built-in function print in module builtins:\n",
            "\n",
            "print(...)\n",
            "    print(value, ..., sep=' ', end='\\n', file=sys.stdout, flush=False)\n",
            "    \n",
            "    Prints the values to a stream, or to sys.stdout by default.\n",
            "    Optional keyword arguments:\n",
            "    file:  a file-like object (stream); defaults to the current sys.stdout.\n",
            "    sep:   string inserted between values, default a space.\n",
            "    end:   string appended after the last value, default a newline.\n",
            "    flush: whether to forcibly flush the stream.\n",
            "\n"
          ],
          "name": "stdout"
        }
      ]
    },
    {
      "cell_type": "code",
      "metadata": {
        "id": "ELA0zpwdDyaL",
        "colab_type": "code",
        "outputId": "50215f6c-b3dc-4e48-83e6-c844399e2aa5",
        "colab": {
          "base_uri": "https://localhost:8080/",
          "height": 35
        }
      },
      "source": [
        "type([1,2,3]) # Lists use square brackets"
      ],
      "execution_count": 0,
      "outputs": [
        {
          "output_type": "execute_result",
          "data": {
            "text/plain": [
              "list"
            ]
          },
          "metadata": {
            "tags": []
          },
          "execution_count": 23
        }
      ]
    },
    {
      "cell_type": "code",
      "metadata": {
        "id": "lYgHp4qhzyj6",
        "colab_type": "code",
        "colab": {}
      },
      "source": [
        "my_list = ['a', 1.0] # ['foo', 'bar']]\n",
        "#print(''.join(my_list))"
      ],
      "execution_count": 0,
      "outputs": []
    },
    {
      "cell_type": "code",
      "metadata": {
        "id": "0g0a7DYIzp5b",
        "colab_type": "code",
        "colab": {}
      },
      "source": [
        "my_list += ['foo', 'bar'] # x += 1, same as x = x + 1"
      ],
      "execution_count": 0,
      "outputs": []
    },
    {
      "cell_type": "code",
      "metadata": {
        "id": "bGUziYBA1NYf",
        "colab_type": "code",
        "outputId": "87ea5208-4dc3-4e05-d448-fe602cf19628",
        "colab": {
          "base_uri": "https://localhost:8080/",
          "height": 186
        }
      },
      "source": [
        "my_list.remove('foo')"
      ],
      "execution_count": 0,
      "outputs": [
        {
          "output_type": "error",
          "ename": "ValueError",
          "evalue": "ignored",
          "traceback": [
            "\u001b[0;31m---------------------------------------------------------------------------\u001b[0m",
            "\u001b[0;31mValueError\u001b[0m                                Traceback (most recent call last)",
            "\u001b[0;32m<ipython-input-51-4143d5fc8d53>\u001b[0m in \u001b[0;36m<module>\u001b[0;34m()\u001b[0m\n\u001b[0;32m----> 1\u001b[0;31m \u001b[0mmy_list\u001b[0m\u001b[0;34m.\u001b[0m\u001b[0mremove\u001b[0m\u001b[0;34m(\u001b[0m\u001b[0;34m'foo'\u001b[0m\u001b[0;34m)\u001b[0m\u001b[0;34m\u001b[0m\u001b[0;34m\u001b[0m\u001b[0m\n\u001b[0m",
            "\u001b[0;31mValueError\u001b[0m: list.remove(x): x not in list"
          ]
        }
      ]
    },
    {
      "cell_type": "code",
      "metadata": {
        "id": "_mtC-0is0rdZ",
        "colab_type": "code",
        "outputId": "2e9d5142-c1ab-4106-ebeb-6f639296338a",
        "colab": {
          "base_uri": "https://localhost:8080/",
          "height": 35
        }
      },
      "source": [
        "my_list"
      ],
      "execution_count": 0,
      "outputs": [
        {
          "output_type": "execute_result",
          "data": {
            "text/plain": [
              "['a', 1.0, 'bar', 'bar']"
            ]
          },
          "metadata": {
            "tags": []
          },
          "execution_count": 50
        }
      ]
    },
    {
      "cell_type": "code",
      "metadata": {
        "id": "hbZ91r4_1YSz",
        "colab_type": "code",
        "outputId": "2e293ea6-f87a-46d0-d845-cb6aa9442f3c",
        "colab": {
          "base_uri": "https://localhost:8080/",
          "height": 35
        }
      },
      "source": [
        "my_list[-1][1]"
      ],
      "execution_count": 0,
      "outputs": [
        {
          "output_type": "execute_result",
          "data": {
            "text/plain": [
              "'bar'"
            ]
          },
          "metadata": {
            "tags": []
          },
          "execution_count": 28
        }
      ]
    },
    {
      "cell_type": "code",
      "metadata": {
        "id": "NLTKkda01aRF",
        "colab_type": "code",
        "outputId": "7ac1dc05-bf11-4bc6-f14b-5d9128cae87f",
        "colab": {
          "base_uri": "https://localhost:8080/",
          "height": 35
        }
      },
      "source": [
        "my_list[0:8]"
      ],
      "execution_count": 0,
      "outputs": [
        {
          "output_type": "execute_result",
          "data": {
            "text/plain": [
              "['a', 1.0, 'bar', 'bar']"
            ]
          },
          "metadata": {
            "tags": []
          },
          "execution_count": 61
        }
      ]
    },
    {
      "cell_type": "code",
      "metadata": {
        "id": "dM0VuSRO1dGE",
        "colab_type": "code",
        "colab": {}
      },
      "source": [
        "my_list.append(2)"
      ],
      "execution_count": 0,
      "outputs": []
    },
    {
      "cell_type": "code",
      "metadata": {
        "id": "2vwYObME2OyP",
        "colab_type": "code",
        "outputId": "e2af853b-fce0-4d51-ebf4-2c0a97b1543a",
        "colab": {
          "base_uri": "https://localhost:8080/",
          "height": 35
        }
      },
      "source": [
        "my_list"
      ],
      "execution_count": 0,
      "outputs": [
        {
          "output_type": "execute_result",
          "data": {
            "text/plain": [
              "['a', 1.0, 'bar', 'bar', 2]"
            ]
          },
          "metadata": {
            "tags": []
          },
          "execution_count": 63
        }
      ]
    },
    {
      "cell_type": "code",
      "metadata": {
        "id": "aqdkC1DF3Flg",
        "colab_type": "code",
        "outputId": "4cc87937-139b-4200-a307-b1b37439ef39",
        "colab": {
          "base_uri": "https://localhost:8080/",
          "height": 1000
        }
      },
      "source": [
        "dir('string')"
      ],
      "execution_count": 0,
      "outputs": [
        {
          "output_type": "execute_result",
          "data": {
            "text/plain": [
              "['__add__',\n",
              " '__class__',\n",
              " '__contains__',\n",
              " '__delattr__',\n",
              " '__dir__',\n",
              " '__doc__',\n",
              " '__eq__',\n",
              " '__format__',\n",
              " '__ge__',\n",
              " '__getattribute__',\n",
              " '__getitem__',\n",
              " '__getnewargs__',\n",
              " '__gt__',\n",
              " '__hash__',\n",
              " '__init__',\n",
              " '__init_subclass__',\n",
              " '__iter__',\n",
              " '__le__',\n",
              " '__len__',\n",
              " '__lt__',\n",
              " '__mod__',\n",
              " '__mul__',\n",
              " '__ne__',\n",
              " '__new__',\n",
              " '__reduce__',\n",
              " '__reduce_ex__',\n",
              " '__repr__',\n",
              " '__rmod__',\n",
              " '__rmul__',\n",
              " '__setattr__',\n",
              " '__sizeof__',\n",
              " '__str__',\n",
              " '__subclasshook__',\n",
              " 'capitalize',\n",
              " 'casefold',\n",
              " 'center',\n",
              " 'count',\n",
              " 'encode',\n",
              " 'endswith',\n",
              " 'expandtabs',\n",
              " 'find',\n",
              " 'format',\n",
              " 'format_map',\n",
              " 'index',\n",
              " 'isalnum',\n",
              " 'isalpha',\n",
              " 'isdecimal',\n",
              " 'isdigit',\n",
              " 'isidentifier',\n",
              " 'islower',\n",
              " 'isnumeric',\n",
              " 'isprintable',\n",
              " 'isspace',\n",
              " 'istitle',\n",
              " 'isupper',\n",
              " 'join',\n",
              " 'ljust',\n",
              " 'lower',\n",
              " 'lstrip',\n",
              " 'maketrans',\n",
              " 'partition',\n",
              " 'replace',\n",
              " 'rfind',\n",
              " 'rindex',\n",
              " 'rjust',\n",
              " 'rpartition',\n",
              " 'rsplit',\n",
              " 'rstrip',\n",
              " 'split',\n",
              " 'splitlines',\n",
              " 'startswith',\n",
              " 'strip',\n",
              " 'swapcase',\n",
              " 'title',\n",
              " 'translate',\n",
              " 'upper',\n",
              " 'zfill']"
            ]
          },
          "metadata": {
            "tags": []
          },
          "execution_count": 65
        }
      ]
    },
    {
      "cell_type": "code",
      "metadata": {
        "id": "9HJ2Ue7k3S29",
        "colab_type": "code",
        "colab": {}
      },
      "source": [
        "str1 = 'a series of words'"
      ],
      "execution_count": 0,
      "outputs": []
    },
    {
      "cell_type": "code",
      "metadata": {
        "id": "200S6KzD5QBY",
        "colab_type": "code",
        "outputId": "8f1200b2-2289-4f7f-921e-15fc08d27b97",
        "colab": {
          "base_uri": "https://localhost:8080/",
          "height": 35
        }
      },
      "source": [
        "str1[0:5]"
      ],
      "execution_count": 0,
      "outputs": [
        {
          "output_type": "execute_result",
          "data": {
            "text/plain": [
              "'a ser'"
            ]
          },
          "metadata": {
            "tags": []
          },
          "execution_count": 26
        }
      ]
    },
    {
      "cell_type": "code",
      "metadata": {
        "id": "6x1JnyOX5Sb0",
        "colab_type": "code",
        "outputId": "3adf5b3b-6330-4685-d99e-ad355b4b7455",
        "colab": {
          "base_uri": "https://localhost:8080/",
          "height": 156
        }
      },
      "source": [
        "str2 = [1,2,3,4,4,4,5,12] #'let us say that this is a very very long string'\n",
        "counter = {}\n",
        "for letter in str2:\n",
        "  if letter not in counter.keys():\n",
        "    counter[letter] = 1\n",
        "  else:\n",
        "    counter[letter] += 1\n",
        "\n",
        "  print(counter)"
      ],
      "execution_count": 0,
      "outputs": [
        {
          "output_type": "stream",
          "text": [
            "{1: 1}\n",
            "{1: 1, 2: 1}\n",
            "{1: 1, 2: 1, 3: 1}\n",
            "{1: 1, 2: 1, 3: 1, 4: 1}\n",
            "{1: 1, 2: 1, 3: 1, 4: 2}\n",
            "{1: 1, 2: 1, 3: 1, 4: 3}\n",
            "{1: 1, 2: 1, 3: 1, 4: 3, 5: 1}\n",
            "{1: 1, 2: 1, 3: 1, 4: 3, 5: 1, 12: 1}\n"
          ],
          "name": "stdout"
        }
      ]
    },
    {
      "cell_type": "code",
      "metadata": {
        "id": "lC3E7rFq8iKT",
        "colab_type": "code",
        "colab": {}
      },
      "source": [
        "import pandas as pd"
      ],
      "execution_count": 0,
      "outputs": []
    },
    {
      "cell_type": "code",
      "metadata": {
        "id": "nrY4Ymw0A_Ay",
        "colab_type": "code",
        "outputId": "88b6c928-d205-4648-8b2f-de767db2fccd",
        "colab": {
          "base_uri": "https://localhost:8080/",
          "height": 1000
        }
      },
      "source": [
        "dir(pd)"
      ],
      "execution_count": 0,
      "outputs": [
        {
          "output_type": "execute_result",
          "data": {
            "text/plain": [
              "['Categorical',\n",
              " 'CategoricalDtype',\n",
              " 'CategoricalIndex',\n",
              " 'DataFrame',\n",
              " 'DateOffset',\n",
              " 'DatetimeIndex',\n",
              " 'DatetimeTZDtype',\n",
              " 'ExcelFile',\n",
              " 'ExcelWriter',\n",
              " 'Float64Index',\n",
              " 'Grouper',\n",
              " 'HDFStore',\n",
              " 'Index',\n",
              " 'IndexSlice',\n",
              " 'Int16Dtype',\n",
              " 'Int32Dtype',\n",
              " 'Int64Dtype',\n",
              " 'Int64Index',\n",
              " 'Int8Dtype',\n",
              " 'Interval',\n",
              " 'IntervalDtype',\n",
              " 'IntervalIndex',\n",
              " 'MultiIndex',\n",
              " 'NaT',\n",
              " 'Panel',\n",
              " 'Period',\n",
              " 'PeriodDtype',\n",
              " 'PeriodIndex',\n",
              " 'RangeIndex',\n",
              " 'Series',\n",
              " 'SparseArray',\n",
              " 'SparseDataFrame',\n",
              " 'SparseDtype',\n",
              " 'SparseSeries',\n",
              " 'TimeGrouper',\n",
              " 'Timedelta',\n",
              " 'TimedeltaIndex',\n",
              " 'Timestamp',\n",
              " 'UInt16Dtype',\n",
              " 'UInt32Dtype',\n",
              " 'UInt64Dtype',\n",
              " 'UInt64Index',\n",
              " 'UInt8Dtype',\n",
              " '__builtins__',\n",
              " '__cached__',\n",
              " '__doc__',\n",
              " '__docformat__',\n",
              " '__file__',\n",
              " '__git_version__',\n",
              " '__loader__',\n",
              " '__name__',\n",
              " '__package__',\n",
              " '__path__',\n",
              " '__spec__',\n",
              " '__version__',\n",
              " '_hashtable',\n",
              " '_lib',\n",
              " '_libs',\n",
              " '_np_version_under1p13',\n",
              " '_np_version_under1p14',\n",
              " '_np_version_under1p15',\n",
              " '_np_version_under1p16',\n",
              " '_np_version_under1p17',\n",
              " '_tslib',\n",
              " '_version',\n",
              " 'api',\n",
              " 'array',\n",
              " 'arrays',\n",
              " 'bdate_range',\n",
              " 'compat',\n",
              " 'concat',\n",
              " 'core',\n",
              " 'crosstab',\n",
              " 'cut',\n",
              " 'date_range',\n",
              " 'datetime',\n",
              " 'describe_option',\n",
              " 'errors',\n",
              " 'eval',\n",
              " 'factorize',\n",
              " 'get_dummies',\n",
              " 'get_option',\n",
              " 'infer_freq',\n",
              " 'interval_range',\n",
              " 'io',\n",
              " 'isna',\n",
              " 'isnull',\n",
              " 'lreshape',\n",
              " 'melt',\n",
              " 'merge',\n",
              " 'merge_asof',\n",
              " 'merge_ordered',\n",
              " 'notna',\n",
              " 'notnull',\n",
              " 'np',\n",
              " 'offsets',\n",
              " 'option_context',\n",
              " 'options',\n",
              " 'pandas',\n",
              " 'period_range',\n",
              " 'pivot',\n",
              " 'pivot_table',\n",
              " 'plotting',\n",
              " 'qcut',\n",
              " 'read_clipboard',\n",
              " 'read_csv',\n",
              " 'read_excel',\n",
              " 'read_feather',\n",
              " 'read_fwf',\n",
              " 'read_gbq',\n",
              " 'read_hdf',\n",
              " 'read_html',\n",
              " 'read_json',\n",
              " 'read_msgpack',\n",
              " 'read_parquet',\n",
              " 'read_pickle',\n",
              " 'read_sas',\n",
              " 'read_sql',\n",
              " 'read_sql_query',\n",
              " 'read_sql_table',\n",
              " 'read_stata',\n",
              " 'read_table',\n",
              " 'reset_option',\n",
              " 'set_eng_float_format',\n",
              " 'set_option',\n",
              " 'show_versions',\n",
              " 'test',\n",
              " 'testing',\n",
              " 'timedelta_range',\n",
              " 'to_datetime',\n",
              " 'to_msgpack',\n",
              " 'to_numeric',\n",
              " 'to_pickle',\n",
              " 'to_timedelta',\n",
              " 'tseries',\n",
              " 'unique',\n",
              " 'util',\n",
              " 'value_counts',\n",
              " 'wide_to_long']"
            ]
          },
          "metadata": {
            "tags": []
          },
          "execution_count": 35
        }
      ]
    },
    {
      "cell_type": "code",
      "metadata": {
        "id": "MM6_xTx8CFr_",
        "colab_type": "code",
        "colab": {}
      },
      "source": [
        "import matplotlib.pyplot as plt"
      ],
      "execution_count": 0,
      "outputs": []
    },
    {
      "cell_type": "code",
      "metadata": {
        "id": "3w3XkhDgVdje",
        "colab_type": "code",
        "outputId": "5ca214f4-1880-4ef4-96a8-f712e370a176",
        "colab": {
          "base_uri": "https://localhost:8080/",
          "height": 311
        }
      },
      "source": [
        "!wget https://raw.github.com/pydata/pandas/master/pandas/tests/data/iris.csv"
      ],
      "execution_count": 0,
      "outputs": [
        {
          "output_type": "stream",
          "text": [
            "--2019-08-27 04:29:37--  https://raw.github.com/pydata/pandas/master/pandas/tests/data/iris.csv\n",
            "Resolving raw.github.com (raw.github.com)... 151.101.0.133, 151.101.64.133, 151.101.128.133, ...\n",
            "Connecting to raw.github.com (raw.github.com)|151.101.0.133|:443... connected.\n",
            "HTTP request sent, awaiting response... 301 Moved Permanently\n",
            "Location: https://raw.githubusercontent.com/pydata/pandas/master/pandas/tests/data/iris.csv [following]\n",
            "--2019-08-27 04:29:37--  https://raw.githubusercontent.com/pydata/pandas/master/pandas/tests/data/iris.csv\n",
            "Resolving raw.githubusercontent.com (raw.githubusercontent.com)... 151.101.0.133, 151.101.64.133, 151.101.128.133, ...\n",
            "Connecting to raw.githubusercontent.com (raw.githubusercontent.com)|151.101.0.133|:443... connected.\n",
            "HTTP request sent, awaiting response... 200 OK\n",
            "Length: 4600 (4.5K) [text/plain]\n",
            "Saving to: ‘iris.csv’\n",
            "\n",
            "\riris.csv              0%[                    ]       0  --.-KB/s               \riris.csv            100%[===================>]   4.49K  --.-KB/s    in 0s      \n",
            "\n",
            "2019-08-27 04:29:38 (84.9 MB/s) - ‘iris.csv’ saved [4600/4600]\n",
            "\n"
          ],
          "name": "stdout"
        }
      ]
    },
    {
      "cell_type": "code",
      "metadata": {
        "id": "3vRZAvLoVhvV",
        "colab_type": "code",
        "colab": {}
      },
      "source": [
        "data = pd.read_csv('iris.csv')"
      ],
      "execution_count": 0,
      "outputs": []
    },
    {
      "cell_type": "code",
      "metadata": {
        "id": "xCny1ylGVi3A",
        "colab_type": "code",
        "outputId": "9a0f8a16-c585-48d5-8bce-a6a911f2cafd",
        "colab": {
          "base_uri": "https://localhost:8080/",
          "height": 286
        }
      },
      "source": [
        "import pandas\n",
        "plt.figure()\n",
        "from pandas.plotting import radviz\n",
        "radviz(data, 'Name')\n",
        "# Much more to come on this dataset later..."
      ],
      "execution_count": 0,
      "outputs": [
        {
          "output_type": "execute_result",
          "data": {
            "text/plain": [
              "<matplotlib.axes._subplots.AxesSubplot at 0x7fd95e0ab748>"
            ]
          },
          "metadata": {
            "tags": []
          },
          "execution_count": 47
        },
        {
          "output_type": "display_data",
          "data": {
            "image/png": "[encoded data removed]",
            "text/plain": [
              "<Figure size 432x288 with 1 Axes>"
            ]
          },
          "metadata": {
            "tags": []
          }
        }
      ]
    },
    {
      "cell_type": "code",
      "metadata": {
        "id": "H4iXzV4LVwgK",
        "colab_type": "code",
        "colab": {}
      },
      "source": [
        ""
      ],
      "execution_count": 0,
      "outputs": []
    }
  ]
}